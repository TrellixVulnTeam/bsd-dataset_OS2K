{
 "cells": [
  {
   "cell_type": "code",
   "execution_count": 1,
   "id": "16a1ca96",
   "metadata": {},
   "outputs": [],
   "source": [
    "%load_ext autoreload\n",
    "%autoreload 2"
   ]
  },
  {
   "cell_type": "code",
   "execution_count": 2,
   "id": "0f465490",
   "metadata": {},
   "outputs": [
    {
     "name": "stderr",
     "output_type": "stream",
     "text": [
      "/home/jason.jewik/miniconda3/envs/downscale-gpu/lib/python3.9/site-packages/tqdm/auto.py:22: TqdmWarning: IProgress not found. Please update jupyter and ipywidgets. See https://ipywidgets.readthedocs.io/en/stable/user_install.html\n",
      "  from .autonotebook import tqdm as notebook_tqdm\n"
     ]
    }
   ],
   "source": [
    "from bsd_dataset import regions\n",
    "from bsd_dataset.common.transforms import LogTransformPrecipitation\n",
    "import pandas as pd\n",
    "import xarray as xr\n",
    "import torch"
   ]
  },
  {
   "cell_type": "code",
   "execution_count": 3,
   "id": "a22fccb5",
   "metadata": {},
   "outputs": [],
   "source": [
    "class Dataset:\n",
    "    input_ds = None\n",
    "    target_ds = None\n",
    "    \n",
    "    def __init__(self, input_dir, target_dir, region, period, transform=None, target_transform=None):\n",
    "        if Dataset.input_ds is None:\n",
    "            Dataset.input_ds = xr.open_mfdataset(f'{input_dir}/*.nc')\n",
    "        if Dataset.target_ds is None:\n",
    "            Dataset.target_ds = xr.open_mfdataset(f'{target_dir}/*.nc')\n",
    "        self.lats = sorted(region.get_latitudes())\n",
    "        self.lons = sorted(region.get_longitudes(180))\n",
    "        self.period = pd.date_range(*period)\n",
    "        self.transform = transform\n",
    "        self.target_transform = target_transform\n",
    "        \n",
    "    def __getitem__(self, idx):\n",
    "        date = str(self.period[idx].date())\n",
    "        \n",
    "        xdata = Dataset.input_ds.precip.sel(time=date, latitude=slice(*self.lats), longitude=slice(*self.lons))\n",
    "        ydata = Dataset.target_ds.precip.sel(time=date, latitude=slice(*self.lats), longitude=slice(*self.lons))        \n",
    "        \n",
    "        x = torch.tensor(xdata.values)\n",
    "        if self.transform:\n",
    "            x = self.transform(x)\n",
    "            \n",
    "        y = torch.tensor(ydata.values)\n",
    "        if self.target_transform:\n",
    "            y = self.target_transform(y)\n",
    "            \n",
    "        info = {\n",
    "            'x_mask': torch.isnan(x),\n",
    "            'y_mask': torch.isnan(y),\n",
    "            'x_lat': torch.tensor(xdata.latitude.values),\n",
    "            'x_lon': torch.tensor(xdata.longitude.values),\n",
    "            'y_lat': torch.tensor(ydata.latitude.values),\n",
    "            'y_lon': torch.tensor(ydata.longitude.values)\n",
    "        }\n",
    "        \n",
    "        return x, y, info"
   ]
  },
  {
   "cell_type": "code",
   "execution_count": 4,
   "id": "c8eb7116",
   "metadata": {},
   "outputs": [],
   "source": [
    "input_dir = '/home/data/BSDD/experiment-chirps/chirps-input'\n",
    "target_dir = '/home/data/BSDD/experiment-chirps/chirps-target'\n",
    "\n",
    "train_period = ('1983-01-01', '2010-12-31')\n",
    "val_period = ('2011-01-01', '2012-12-31')\n",
    "test_period = ('2013-01-01', '2014-12-31')\n",
    "\n",
    "region = regions.Europe\n",
    "transform = LogTransformPrecipitation()"
   ]
  },
  {
   "cell_type": "code",
   "execution_count": 5,
   "id": "9d8c246b",
   "metadata": {},
   "outputs": [],
   "source": [
    "train_set = Dataset(input_dir, target_dir, region, train_period, transform, transform)\n",
    "val_set = Dataset(input_dir, target_dir, region, val_period, transform, transform)\n",
    "test_set = Dataset(input_dir, target_dir, region, test_period, transform, transform)"
   ]
  },
  {
   "cell_type": "code",
   "execution_count": 6,
   "id": "5b612868",
   "metadata": {},
   "outputs": [],
   "source": [
    "x, y, info = train_set[0]"
   ]
  },
  {
   "cell_type": "code",
   "execution_count": 7,
   "id": "a83ecf7b",
   "metadata": {},
   "outputs": [
    {
     "name": "stdout",
     "output_type": "stream",
     "text": [
      "tensor([[nan, 0., 0.,  ..., 0., 0., 0.],\n",
      "        [nan, 0., 0.,  ..., 0., 0., 0.],\n",
      "        [0., 0., 0.,  ..., 0., 0., 0.],\n",
      "        ...,\n",
      "        [nan, nan, nan,  ..., 0., 0., 0.],\n",
      "        [nan, nan, nan,  ..., 0., 0., 0.],\n",
      "        [nan, nan, nan,  ..., 0., 0., 0.]])\n",
      "torch.Size([80, 200])\n"
     ]
    }
   ],
   "source": [
    "print(x)\n",
    "print(x.shape)"
   ]
  },
  {
   "cell_type": "code",
   "execution_count": 8,
   "id": "0269a54e",
   "metadata": {},
   "outputs": [
    {
     "name": "stdout",
     "output_type": "stream",
     "text": [
      "tensor([[nan, nan, nan,  ..., 0., 0., 0.],\n",
      "        [nan, nan, nan,  ..., 0., 0., 0.],\n",
      "        [nan, nan, nan,  ..., 0., 0., 0.],\n",
      "        ...,\n",
      "        [nan, nan, nan,  ..., 0., 0., 0.],\n",
      "        [nan, nan, nan,  ..., 0., 0., 0.],\n",
      "        [nan, nan, nan,  ..., 0., 0., 0.]])\n",
      "torch.Size([400, 1000])\n"
     ]
    }
   ],
   "source": [
    "print(y)\n",
    "print(y.shape)"
   ]
  },
  {
   "cell_type": "code",
   "execution_count": 9,
   "id": "673ed947",
   "metadata": {},
   "outputs": [
    {
     "name": "stdout",
     "output_type": "stream",
     "text": [
      "x_mask: torch.Size([80, 200])\n",
      "y_mask: torch.Size([400, 1000])\n",
      "x_lat: torch.Size([80])\n",
      "x_lon: torch.Size([200])\n",
      "y_lat: torch.Size([400])\n",
      "y_lon: torch.Size([1000])\n"
     ]
    }
   ],
   "source": [
    "for k, v in info.items():\n",
    "    print(f'{k}: {v.shape}')"
   ]
  },
  {
   "cell_type": "code",
   "execution_count": null,
   "id": "dc8a1646",
   "metadata": {},
   "outputs": [],
   "source": []
  }
 ],
 "metadata": {
  "kernelspec": {
   "display_name": "Python (downscale-gpu)",
   "language": "python",
   "name": "downscale-gpu"
  },
  "language_info": {
   "codemirror_mode": {
    "name": "ipython",
    "version": 3
   },
   "file_extension": ".py",
   "mimetype": "text/x-python",
   "name": "python",
   "nbconvert_exporter": "python",
   "pygments_lexer": "ipython3",
   "version": "3.9.12"
  }
 },
 "nbformat": 4,
 "nbformat_minor": 5
}
